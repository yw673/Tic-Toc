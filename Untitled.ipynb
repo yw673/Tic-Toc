{
 "cells": [
  {
   "cell_type": "code",
   "execution_count": null,
   "metadata": {
    "collapsed": true
   },
   "outputs": [],
   "source": [
    "#Display the board\n",
    "from IPython.display import clear_output\n",
    "\n",
    "def display_board(board):\n",
    "    clear_output()\n",
    "    print(board[1]+' | '+board[2]+ ' | '+board[3])\n",
    "    print('--|---|--')\n",
    "    print(board[4]+' | '+board[5]+ ' | '+board[6])\n",
    "    print('--|---|--')\n",
    "    print(board[7]+' | '+board[8]+ ' | '+board[9])"
   ]
  },
  {
   "cell_type": "code",
   "execution_count": null,
   "metadata": {
    "collapsed": true
   },
   "outputs": [],
   "source": [
    "#Define the input\n",
    "def player_input():\n",
    "    \n",
    "    marker =''\n",
    "    \n",
    "    while marker != 'X' and marker != 'O' :\n",
    "        marker = input('Player 1, choose X or O     ')\n",
    "    player1 = marker\n",
    "    \n",
    "    if player1 == 'X':\n",
    "        player2 = 'O'\n",
    "    else:\n",
    "        player2 = 'X'\n",
    "    \n",
    "    return(player1,player2)"
   ]
  },
  {
   "cell_type": "code",
   "execution_count": null,
   "metadata": {
    "collapsed": true
   },
   "outputs": [],
   "source": [
    "#place marker\n",
    "def place_marker(board, marker, position):\n",
    "    board.pop(position)\n",
    "    board.insert(position,marker)"
   ]
  },
  {
   "cell_type": "code",
   "execution_count": null,
   "metadata": {
    "collapsed": true
   },
   "outputs": [],
   "source": [
    "def win_check(board, mark):\n",
    "    pos = []\n",
    "    for n in range(1,10):\n",
    "        if board[n] == mark:\n",
    "            pos.append(n)\n",
    "    \n",
    "    return (set(pos) >= set([1,5,9])\n",
    "        or set(pos) >= set([3,5,7])\n",
    "        or set(pos) >= set([1,2,3])\n",
    "        or set(pos) >= set([4,5,6])\n",
    "        or set(pos) >= set([7,8,9])\n",
    "        or set(pos) >= set([1,4,7])\n",
    "        or set(pos) >= set([2,5,8])\n",
    "        or set(pos) >= set([3,6,9]))"
   ]
  },
  {
   "cell_type": "code",
   "execution_count": null,
   "metadata": {
    "collapsed": true
   },
   "outputs": [],
   "source": [
    "import random\n",
    "\n",
    "def choose_first():\n",
    "    if random.randint(0,1) == 0:\n",
    "        return 'Player1'\n",
    "    else:\n",
    "        return 'Player2'"
   ]
  },
  {
   "cell_type": "code",
   "execution_count": null,
   "metadata": {
    "collapsed": true
   },
   "outputs": [],
   "source": [
    "def space_check(board, position):\n",
    "    \n",
    "    return board[position] == \"\""
   ]
  },
  {
   "cell_type": "code",
   "execution_count": null,
   "metadata": {
    "collapsed": true
   },
   "outputs": [],
   "source": [
    "def full_board_check(board):\n",
    "    \n",
    "    return \"\" not in board"
   ]
  },
  {
   "cell_type": "code",
   "execution_count": null,
   "metadata": {
    "collapsed": true
   },
   "outputs": [],
   "source": [
    "def player_choice(board):\n",
    "    pos = int(input(\"What's your next position?\"))\n",
    "    if space_check(board,pos)is True:\n",
    "        return pos"
   ]
  },
  {
   "cell_type": "code",
   "execution_count": null,
   "metadata": {
    "collapsed": true
   },
   "outputs": [],
   "source": [
    "def replay():\n",
    "    \n",
    "    re = input('Do you want to play again?  Y/N')\n",
    "    return re == 'Y'"
   ]
  },
  {
   "cell_type": "code",
   "execution_count": null,
   "metadata": {
    "collapsed": true
   },
   "outputs": [],
   "source": [
    "while True:\n",
    "    \n",
    "    # Reset the board\n",
    "    board = [\"#\",\"\",\"\",\"\",\"\",\"\",\"\",\"\",\"\",\"\",]\n",
    "    display_board(board)\n",
    "    player1_mark,player2_mark = player_input()\n",
    "\n",
    "    #Choose turn\n",
    "    turn = choose_first()\n",
    "    print(turn + ' will go first')\n",
    "     #Ready check\n",
    "    play = input(\"Are you ready to start the game? Y/N\")\n",
    "    if play == \"Y\":\n",
    "        game_on = True\n",
    "    else:\n",
    "        game_on = False\n",
    "    \n",
    "    #Game on\n",
    "    while game_on:\n",
    "        \n",
    "        #Player 1\n",
    "        if turn =='Player1':\n",
    "            \n",
    "            pos = player_choice(board)\n",
    "            place_marker(board,player1_mark,pos)\n",
    "            display_board(board)\n",
    "            print(\"Player 1\")\n",
    "            #Win check\n",
    "            if win_check(board,player1_mark):\n",
    "                display_board(board)\n",
    "                print(\"Player 1 win!\")\n",
    "                game_on = False\n",
    "                break\n",
    "            else:\n",
    "                if full_board_check(board):\n",
    "                    display_board(board)\n",
    "                    print(\"Game is a draw\")\n",
    "                    break\n",
    "                else:\n",
    "                    turn = 'Player2'\n",
    "                          \n",
    "        #player 2\n",
    "        else:\n",
    "            pos = player_choice(board)\n",
    "            place_marker(board,player2_mark,pos)\n",
    "            display_board(board)\n",
    "            print(\"Player 2\")\n",
    "            #Win check\n",
    "            if win_check(board,player2_mark):\n",
    "                display_board(board)\n",
    "                print(\"Player 2 win!\")\n",
    "                game_on = False\n",
    "                break\n",
    "            else:\n",
    "                if full_board_check(board):\n",
    "                    display_board(board)\n",
    "                    print(\"Game is a draw\")\n",
    "                    break\n",
    "                else:\n",
    "                    turn = 'Player1'\n",
    "                     \n",
    "    \n",
    "   \n",
    "    if not replay():\n",
    "        break"
   ]
  }
 ],
 "metadata": {
  "kernelspec": {
   "display_name": "Python 3",
   "language": "python",
   "name": "python3"
  },
  "language_info": {
   "codemirror_mode": {
    "name": "ipython",
    "version": 3
   },
   "file_extension": ".py",
   "mimetype": "text/x-python",
   "name": "python",
   "nbconvert_exporter": "python",
   "pygments_lexer": "ipython3",
   "version": "3.5.2"
  }
 },
 "nbformat": 4,
 "nbformat_minor": 2
}
